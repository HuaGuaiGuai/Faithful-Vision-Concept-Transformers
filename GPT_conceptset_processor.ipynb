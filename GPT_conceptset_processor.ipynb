{
 "cells": [
  {
   "cell_type": "code",
   "execution_count": 41,
   "id": "f044edc2-b257-47e1-959b-c10a0f2a46e4",
   "metadata": {},
   "outputs": [],
   "source": [
    "import json\n",
    "import data_utils\n",
    "import conceptset_utils\n",
    "import torch"
   ]
  },
  {
   "cell_type": "code",
   "execution_count": 42,
   "id": "ec09e8bc-a9ca-4821-98e6-b1994493da22",
   "metadata": {},
   "outputs": [],
   "source": [
    "\"\"\"\n",
    "CLASS_SIM_CUTOFF: Concenpts with cos similarity higher than this to any class will be removed\n",
    "OTHER_SIM_CUTOFF: Concenpts with cos similarity higher than this to another concept will be removed\n",
    "MAX_LEN: max number of characters in a concept\n",
    "\n",
    "PRINT_PROB: what percentage of filtered concepts will be printed\n",
    "\"\"\"\n",
    "\n",
    "CLASS_SIM_CUTOFF = 0.85\n",
    "OTHER_SIM_CUTOFF = 0.9\n",
    "MAX_LEN = 60\n",
    "PRINT_PROB = 1\n",
    "\n",
    "dataset = \"oct\"\n",
    "device = \"cuda\"\n",
    "\n",
    "save_name = \"data/concept_sets/{}_filtered_new.txt\".format(dataset)"
   ]
  },
  {
   "cell_type": "code",
   "execution_count": 43,
   "id": "8f98f951-32e8-40af-90d9-a06042126810",
   "metadata": {},
   "outputs": [],
   "source": [
    "#EDIT these to use the initial concept sets you want\n",
    "\n",
    "with open(\"data/concept_sets/gpt3_init/gpt3_{}_important_new.json\".format(dataset), \"r\") as f:\n",
    "    important_dict = json.load(f)\n",
    "with open(\"data/concept_sets/gpt3_init/gpt3_{}_superclass_new.json\".format(dataset), \"r\") as f:\n",
    "    superclass_dict = json.load(f)\n",
    "with open(\"data/concept_sets/gpt3_init/gpt3_{}_around_new.json\".format(dataset), \"r\") as f:\n",
    "    around_dict = json.load(f)\n",
    "\n",
    "cls_file = './data/mnist_classes.txt'\n",
    "with open(cls_file, \"r\") as f:\n",
    "    classes = f.read().split(\"\\n\")\n",
    "classes=[   'Choroidal Neovascularization',\n",
    "            'Diabetic Macular Edema',\n",
    "            'DRUSEN',\n",
    "            'normal eyeball']"
   ]
  },
  {
   "cell_type": "code",
   "execution_count": 44,
   "id": "8da88093-b11f-4273-9599-5c986063e869",
   "metadata": {},
   "outputs": [
    {
     "name": "stdout",
     "output_type": "stream",
     "text": [
      "107\n"
     ]
    }
   ],
   "source": [
    "concepts = set()\n",
    "\n",
    "for values in important_dict.values():\n",
    "    concepts.update(set(values))\n",
    "\n",
    "\n",
    "for values in superclass_dict.values():\n",
    "    concepts.update(set(values))\n",
    "\n",
    "for values in around_dict.values():\n",
    "    concepts.update(set(values))\n",
    "\n",
    "# with open(\"data/concept_sets/{}_filtered_new.txt\".format(dataset)) as f:\n",
    "#     concepts = f.read().split(\"\\n\")\n",
    "print(len(concepts))"
   ]
  },
  {
   "cell_type": "code",
   "execution_count": 45,
   "id": "b14c878e-d6f8-47fd-9322-85d14dfbdaa8",
   "metadata": {},
   "outputs": [
    {
     "name": "stdout",
     "output_type": "stream",
     "text": [
      "62 can appear in early stages of age-related macular degeneration\n",
      "70 a series of dark and light bands radiating out from the central circle\n",
      "66 appear as small, white or yellow spots in the center of the retina\n",
      "95 a yellowish or white deposit of fatty material and cellular debris on the retina or optic nerve\n",
      "96 the presence of abnormal blood vessels in the choroid (layer of blood vessels behind the retina)\n",
      "107 102\n",
      "['a white sclera', 'located beneath the retina', 'increased reflectivity at the lesion border', 'an iris', 'eye disease', 'a magnifying glass', 'a dark or empty area in the center of vision', 'leakage of fluid and/or blood from the vessels', 'a series of dark and light bands in the middle', 'there are no cysts or lesions', 'an eye chart', 'swelling', 'loss of normal retinal architecture', 'thickening of the central retina', 'A small, yellowish white lesion on the retina', 'the fovea is oval shaped', 'distortion of the central retina', 'a light ring around the edge', 'Disease', 'diabetic retinopathy', 'eye disorder', 'the retina', 'blurred vision', 'fluid accumulation', 'damage to the eye', 'round, white or yellowish deposits beneath the retina', 'may be a sign of early age-related macular degeneration', 'straight lines appearing wavy', 'difficulty reading or doing other close work', 'a pupil', 'macular degeneration', 'a medical chart', 'disease', 'vision loss', 'eyelids', 'a blurry or distorted outer ring', 'a bright halo around the mass', 'may be seen in other eye diseases', 'the retina is smooth and evenly pigmented', 'the blood vessels are normal', 'colors appearing dull', 'pupil', 'a generally oval shape', 'a light halo around the central dark area', 'a doctor', 'blood vessels', 'eyebrows', 'central vision loss', 'the sclera', 'Nerve disorder', 'the pupil', 'eye condition', 'the macula', 'small, round, white or yellowish deposits under the retina', 'a circular shape with a central dark area', 'retinal thickening or edema', 'a medical condition', 'a dark center', 'decreased color vision', 'medical condition', 'eyeball', 'a yellowish deposit', 'a bright, hyperreflective core', 'a light-colored ring around the central circle', 'a round, black central circle', 'inflammation', 'object', 'a sign of early age-related macular degeneration', 'a round or oval lesion', 'a light', 'darkening of the central retina', 'Usually asymptomatic', 'a dark or empty spot in the center of vision', 'typically appear in both eyes', 'iris', 'the optic nerve head is centered in the fovea', 'lightening of the central retina', 'May be found in other eye diseases', 'can vary in size, shape, and number', 'blurring of the central retina', 'ailment', 'the iris', 'a dark central area', 'arranged in a line or cluster', 'scar tissue', 'a round shape', 'a surrounding halo of hyporeflectivity', 'body part', 'eyelashes', 'a fuzzy or blurred appearance', 'A common sign of macular degeneration', 'Medical Condition', 'a dark mass in the center of the image', 'a network of fine, spidery lines emanating from the mass', 'the eye', 'the optic nerve', 'the cornea', 'pathology', 'sclera', 'small, round, white or yellowish spots', 'a retina', 'a small size']\n"
     ]
    }
   ],
   "source": [
    "concepts = conceptset_utils.remove_too_long(concepts, MAX_LEN, PRINT_PROB)\n",
    "print(concepts)"
   ]
  },
  {
   "cell_type": "code",
   "execution_count": 46,
   "id": "d27e7a88-bdd4-49cb-b74d-fd16866eb5e0",
   "metadata": {},
   "outputs": [
    {
     "name": "stdout",
     "output_type": "stream",
     "text": [
      "102\n",
      "102\n",
      "Class:Diabetic Macular Edema - Concept:diabetic retinopathy, sim:0.866 - Deleting diabetic retinopathy\n",
      "\n",
      "Class:Diabetic Macular Edema - Concept:macular degeneration, sim:0.853 - Deleting macular degeneration\n",
      "\n",
      "Class:normal eyeball - Concept:eyeball, sim:0.892 - Deleting eyeball\n",
      "\n",
      "99\n"
     ]
    }
   ],
   "source": [
    "concepts = conceptset_utils.filter_too_similar_to_cls(concepts, classes, CLASS_SIM_CUTOFF, device, PRINT_PROB)"
   ]
  },
  {
   "cell_type": "code",
   "execution_count": 47,
   "id": "3161dcfb-f9ec-4775-9b80-d8042c4f9f32",
   "metadata": {},
   "outputs": [
    {
     "name": "stdout",
     "output_type": "stream",
     "text": [
      "torch.Size([99, 99])\n",
      "A common sign of macular degeneration - a sign of early age-related macular degeneration , sim:0.9566 - Deleting A common sign of macular degeneration\n",
      "Disease - disease , sim:1.0000 - Deleting disease\n",
      "May be found in other eye diseases - may be seen in other eye diseases , sim:0.9783 - Deleting May be found in other eye diseases\n",
      "Medical Condition - a medical condition , sim:0.9625 - Deleting Medical Condition\n",
      "a dark or empty area in the center of vision - a dark or empty spot in the center of vision , sim:0.9719 - Deleting a dark or empty area in the center of vision\n",
      "a generally oval shape - a round shape , sim:0.9245 - Deleting a generally oval shape\n",
      "a medical condition - medical condition , sim:0.9625 - Deleting medical condition\n",
      "a pupil - pupil , sim:0.9223 - Deleting a pupil\n",
      "a retina - the retina , sim:0.9173 - Deleting a retina\n",
      "a sign of early age-related macular degeneration - may be a sign of early age-related macular degeneration , sim:0.9721 - Deleting a sign of early age-related macular degeneration\n",
      "an iris - the iris , sim:0.9114 - Deleting an iris\n",
      "blood vessels - the blood vessels are normal , sim:0.9154 - Deleting blood vessels\n",
      "blurring of the central retina - distortion of the central retina , sim:0.9270 - Deleting blurring of the central retina\n",
      "central vision loss - vision loss , sim:0.9224 - Deleting vision loss\n",
      "darkening of the central retina - distortion of the central retina , sim:0.9021 - Deleting darkening of the central retina\n",
      "eye condition - eye disease , sim:0.9434 - Deleting eye disease\n",
      "eye condition - eye disorder , sim:0.9395 - Deleting eye disorder\n",
      "pupil - the pupil , sim:0.9425 - Deleting pupil\n",
      "round, white or yellowish deposits beneath the retina - small, round, white or yellowish deposits under the retina , sim:0.9865 - Deleting round, white or yellowish deposits beneath the retina\n",
      "sclera - the sclera , sim:0.9442 - Deleting sclera\n",
      "79\n"
     ]
    }
   ],
   "source": [
    "concepts = conceptset_utils.filter_too_similar(concepts, OTHER_SIM_CUTOFF, device, PRINT_PROB)"
   ]
  },
  {
   "cell_type": "code",
   "execution_count": 48,
   "id": "6d7db95f-3391-4609-b3b4-96f234e972b0",
   "metadata": {},
   "outputs": [],
   "source": [
    "with open(save_name, \"w\") as f:\n",
    "    f.write(concepts[0])\n",
    "    for concept in concepts[1:]:\n",
    "        f.write(\"\\n\" + concept)"
   ]
  },
  {
   "cell_type": "code",
   "execution_count": null,
   "outputs": [],
   "source": [],
   "metadata": {
    "collapsed": false
   }
  }
 ],
 "metadata": {
  "kernelspec": {
   "name": "python3",
   "language": "python",
   "display_name": "Python 3 (ipykernel)"
  },
  "language_info": {
   "codemirror_mode": {
    "name": "ipython",
    "version": 3
   },
   "file_extension": ".py",
   "mimetype": "text/x-python",
   "name": "python",
   "nbconvert_exporter": "python",
   "pygments_lexer": "ipython3",
   "version": "3.9.16"
  }
 },
 "nbformat": 4,
 "nbformat_minor": 5
}
